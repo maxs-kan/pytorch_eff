{
 "cells": [
  {
   "cell_type": "code",
   "execution_count": null,
   "metadata": {},
   "outputs": [],
   "source": [
    "# !jupyter nbconvert --to script ./print_model.ipynb"
   ]
  },
  {
   "cell_type": "code",
   "execution_count": 1,
   "metadata": {},
   "outputs": [],
   "source": [
    "from options.base_options import BaseOptions \n",
    "from dataloader import create_dataset\n",
    "from models import create_model\n",
    "\n",
    "import time\n",
    "import numpy as np\n",
    "import random\n",
    "import matplotlib.pyplot as plt\n",
    "import torch\n",
    "import os\n",
    "import copy\n",
    "from collections import OrderedDict "
   ]
  },
  {
   "cell_type": "code",
   "execution_count": 2,
   "metadata": {},
   "outputs": [
    {
     "name": "stdout",
     "output_type": "stream",
     "text": [
      "----------------- Options ---------------\n",
      "                        H: 32                            \n",
      "                        W: 32                            \n",
      "               batch_size: 8                             \n",
      "          checkpoints_dir: ./checkpoints                 \n",
      "           continue_train: False                         \n",
      "             dataset_mode: cifar10                       \n",
      "                    debug: False                         \n",
      "            deterministic: False                         \n",
      "                  dropout: False                         \n",
      "              epoch_count: 1                             \n",
      "                  gpu_ids: 1                             \n",
      "                 img_freq: 1                             \n",
      "                init_type: normal                        \n",
      "                 input_nc: 3                             \n",
      "                  isTrain: True                          \t[default: None]\n",
      "               load_epoch: last                          \n",
      "                loss_freq: 1                             \n",
      "                     lr_G: 0.0002                        \n",
      "           lr_decay_iters: 50                            \n",
      "                lr_policy: linear                        \n",
      "         max_dataset_size: inf                           \n",
      "                    model: classification                \n",
      "                 n_blocks: 6                             \n",
      "           n_downsampling: 1                             \n",
      "                 n_epochs: 1                             \n",
      "           n_epochs_decay: 1                             \n",
      "                    n_pic: 3                             \n",
      "                     name: test                          \n",
      "                      ngf: 32                            \n",
      "          no_data_shuffle: False                         \n",
      "             non_blocking: False                         \n",
      "                     norm: batch                         \n",
      "              num_workers: 4                             \n",
      "                output_nc: 10                            \n",
      "                    phase: train                         \n",
      "                  pin_mem: False                         \n",
      "          save_epoch_freq: 10                            \n",
      "                  use_cpu: False                         \n",
      "         use_dataparallel: False                         \n",
      "                w_decay_G: 0.0001                        \n",
      "----------------- End -------------------\n"
     ]
    }
   ],
   "source": [
    "opt = BaseOptions().parse()\n",
    "torch.cuda.set_device(opt.gpu_ids[0])"
   ]
  },
  {
   "cell_type": "code",
   "execution_count": 3,
   "metadata": {},
   "outputs": [
    {
     "name": "stdout",
     "output_type": "stream",
     "text": [
      "Files already downloaded and verified\n",
      "Dataset CIFAR10 was created\n"
     ]
    }
   ],
   "source": [
    "dataset = create_dataset(opt)  \n",
    "dataset_size = len(dataset)    # get the number of images in the dataset."
   ]
  },
  {
   "cell_type": "code",
   "execution_count": 4,
   "metadata": {},
   "outputs": [
    {
     "name": "stdout",
     "output_type": "stream",
     "text": [
      "Runing on cuda:1\n",
      "initialize network with normal\n",
      "model [ClassificationModel] was created\n",
      "---------- Networks initialized -------------\n",
      "[Network netG] Total number of parameters : 2.121 M\n",
      "-----------------------------------------------\n"
     ]
    }
   ],
   "source": [
    "model = create_model(opt)      # create a model given opt.model and other options\n",
    "model.setup()"
   ]
  },
  {
   "cell_type": "code",
   "execution_count": 5,
   "metadata": {},
   "outputs": [],
   "source": [
    "for data in dataset:\n",
    "    model.set_input(data)\n",
    "    model.optimize_param()\n",
    "    break"
   ]
  },
  {
   "cell_type": "code",
   "execution_count": 6,
   "metadata": {},
   "outputs": [
    {
     "data": {
      "text/plain": [
       "torch.Size([8, 3, 32, 32])"
      ]
     },
     "execution_count": 6,
     "metadata": {},
     "output_type": "execute_result"
    }
   ],
   "source": [
    "data[0].shape"
   ]
  },
  {
   "cell_type": "code",
   "execution_count": 7,
   "metadata": {},
   "outputs": [
    {
     "data": {
      "text/plain": [
       "torch.Size([8])"
      ]
     },
     "execution_count": 7,
     "metadata": {},
     "output_type": "execute_result"
    }
   ],
   "source": [
    "data[1].shape"
   ]
  },
  {
   "cell_type": "code",
   "execution_count": null,
   "metadata": {},
   "outputs": [],
   "source": []
  },
  {
   "cell_type": "code",
   "execution_count": null,
   "metadata": {},
   "outputs": [],
   "source": []
  }
 ],
 "metadata": {
  "kernelspec": {
   "display_name": "Python 3",
   "language": "python",
   "name": "python3"
  },
  "language_info": {
   "codemirror_mode": {
    "name": "ipython",
    "version": 3
   },
   "file_extension": ".py",
   "mimetype": "text/x-python",
   "name": "python",
   "nbconvert_exporter": "python",
   "pygments_lexer": "ipython3",
   "version": "3.7.7"
  }
 },
 "nbformat": 4,
 "nbformat_minor": 4
}
